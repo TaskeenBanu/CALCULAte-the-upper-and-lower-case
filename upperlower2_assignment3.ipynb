{
 "cells": [
  {
   "cell_type": "code",
   "execution_count": 6,
   "id": "a40dccdd",
   "metadata": {},
   "outputs": [
    {
     "ename": "IndentationError",
     "evalue": "unindent does not match any outer indentation level (<tokenize>, line 10)",
     "output_type": "error",
     "traceback": [
      "\u001b[1;36m  File \u001b[1;32m<tokenize>:10\u001b[1;36m\u001b[0m\n\u001b[1;33m    print (\"Original String : \", s)\u001b[0m\n\u001b[1;37m    ^\u001b[0m\n\u001b[1;31mIndentationError\u001b[0m\u001b[1;31m:\u001b[0m unindent does not match any outer indentation level\n"
     ]
    }
   ],
   "source": [
    "def string_test(s): \n",
    "    d={\"UPPER_CASE\":0, \"LOWER_CASE\":0} \n",
    "    for c in s: \n",
    "        if c.isupper(): \n",
    "            d[\"UPPER_CASE\"]+=1 \n",
    "        elif c.islower(): \n",
    "            d[\"LOWER_CASE\"]+=1 \n",
    "        else:\n",
    "           pass \n",
    "            print (\"Original String : \", s) \n",
    "    print (\"No. of Upper case characters : \", d[\"UPPER_CASE\"]) \n",
    "    print (\"No. of Lower case Characters : \", d[\"LOWER_CASE\"]) \n",
    "s = input(\"enter the word : \") \n",
    "string_test(s)"
   ]
  },
  {
   "cell_type": "code",
   "execution_count": null,
   "id": "cada3e4c",
   "metadata": {},
   "outputs": [],
   "source": []
  }
 ],
 "metadata": {
  "kernelspec": {
   "display_name": "Python 3 (ipykernel)",
   "language": "python",
   "name": "python3"
  },
  "language_info": {
   "codemirror_mode": {
    "name": "ipython",
    "version": 3
   },
   "file_extension": ".py",
   "mimetype": "text/x-python",
   "name": "python",
   "nbconvert_exporter": "python",
   "pygments_lexer": "ipython3",
   "version": "3.9.12"
  }
 },
 "nbformat": 4,
 "nbformat_minor": 5
}
